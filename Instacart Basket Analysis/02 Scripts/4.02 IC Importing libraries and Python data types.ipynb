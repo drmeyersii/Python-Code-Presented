{
 "cells": [
  {
   "cell_type": "markdown",
   "id": "71852493",
   "metadata": {},
   "source": [
    "# 4.2 Importing libraries and python data"
   ]
  },
  {
   "cell_type": "markdown",
   "id": "7a9ccb61",
   "metadata": {},
   "source": [
    "### This script contains the following points:\n",
    "\n",
    "#### 1. Import libraries\n",
    "#### 2. Define data types"
   ]
  },
  {
   "cell_type": "markdown",
   "id": "88338dc1",
   "metadata": {},
   "source": [
    "# 01. Importing libraries"
   ]
  },
  {
   "cell_type": "code",
   "execution_count": 1,
   "id": "06fcc6b4",
   "metadata": {},
   "outputs": [],
   "source": [
    "# Import libraries\n",
    "import pandas as pd\n",
    "import numpy as np\n",
    "import os"
   ]
  },
  {
   "cell_type": "markdown",
   "id": "a4a8fc8f",
   "metadata": {},
   "source": [
    "# 02. Data types"
   ]
  },
  {
   "cell_type": "code",
   "execution_count": 3,
   "id": "d60fd215",
   "metadata": {},
   "outputs": [],
   "source": [
    "x=2"
   ]
  },
  {
   "cell_type": "code",
   "execution_count": 4,
   "id": "50bb89a2",
   "metadata": {},
   "outputs": [
    {
     "data": {
      "text/plain": [
       "2"
      ]
     },
     "execution_count": 4,
     "metadata": {},
     "output_type": "execute_result"
    }
   ],
   "source": [
    "x"
   ]
  },
  {
   "cell_type": "code",
   "execution_count": 5,
   "id": "4a8c962f",
   "metadata": {},
   "outputs": [
    {
     "name": "stdout",
     "output_type": "stream",
     "text": [
      "2\n"
     ]
    }
   ],
   "source": [
    "print(x)"
   ]
  },
  {
   "cell_type": "code",
   "execution_count": 6,
   "id": "671605ab",
   "metadata": {},
   "outputs": [
    {
     "data": {
      "text/plain": [
       "int"
      ]
     },
     "execution_count": 6,
     "metadata": {},
     "output_type": "execute_result"
    }
   ],
   "source": [
    "type(x)"
   ]
  },
  {
   "cell_type": "code",
   "execution_count": 34,
   "id": "4bb759ea",
   "metadata": {},
   "outputs": [
    {
     "data": {
      "text/plain": [
       "100"
      ]
     },
     "execution_count": 34,
     "metadata": {},
     "output_type": "execute_result"
    }
   ],
   "source": [
    "x + 94"
   ]
  },
  {
   "cell_type": "code",
   "execution_count": 36,
   "id": "88c4882d",
   "metadata": {},
   "outputs": [
    {
     "data": {
      "text/plain": [
       "100"
      ]
     },
     "execution_count": 36,
     "metadata": {},
     "output_type": "execute_result"
    }
   ],
   "source": [
    "106 - x"
   ]
  },
  {
   "cell_type": "code",
   "execution_count": 37,
   "id": "705df6ab",
   "metadata": {},
   "outputs": [
    {
     "data": {
      "text/plain": [
       "100.0"
      ]
     },
     "execution_count": 37,
     "metadata": {},
     "output_type": "execute_result"
    }
   ],
   "source": [
    "600 / x"
   ]
  },
  {
   "cell_type": "code",
   "execution_count": 3,
   "id": "aa239a3c",
   "metadata": {},
   "outputs": [],
   "source": [
    "y = 5.678"
   ]
  },
  {
   "cell_type": "code",
   "execution_count": 4,
   "id": "ee50d5fe",
   "metadata": {},
   "outputs": [],
   "source": [
    "v = 3.943"
   ]
  },
  {
   "cell_type": "code",
   "execution_count": 9,
   "id": "46b7a90f",
   "metadata": {},
   "outputs": [],
   "source": [
    "z = v / y"
   ]
  },
  {
   "cell_type": "code",
   "execution_count": 39,
   "id": "fb76bfff",
   "metadata": {},
   "outputs": [
    {
     "data": {
      "text/plain": [
       "float"
      ]
     },
     "execution_count": 39,
     "metadata": {},
     "output_type": "execute_result"
    }
   ],
   "source": [
    "type(v)"
   ]
  },
  {
   "cell_type": "code",
   "execution_count": 8,
   "id": "e3384495",
   "metadata": {},
   "outputs": [
    {
     "data": {
      "text/plain": [
       "float"
      ]
     },
     "execution_count": 8,
     "metadata": {},
     "output_type": "execute_result"
    }
   ],
   "source": [
    "type(y)"
   ]
  },
  {
   "cell_type": "code",
   "execution_count": 10,
   "id": "cf9a7177",
   "metadata": {},
   "outputs": [
    {
     "name": "stdout",
     "output_type": "stream",
     "text": [
      "0.021539747724933705\n"
     ]
    }
   ],
   "source": [
    "print(z)"
   ]
  },
  {
   "cell_type": "code",
   "execution_count": 41,
   "id": "b9815423",
   "metadata": {},
   "outputs": [],
   "source": [
    "a = 'con'"
   ]
  },
  {
   "cell_type": "code",
   "execution_count": 42,
   "id": "0da68ef0",
   "metadata": {},
   "outputs": [],
   "source": [
    "b = 'stit'"
   ]
  },
  {
   "cell_type": "code",
   "execution_count": 43,
   "id": "d7f27f6e",
   "metadata": {},
   "outputs": [],
   "source": [
    "c = 'ution'"
   ]
  },
  {
   "cell_type": "code",
   "execution_count": 44,
   "id": "0d471767",
   "metadata": {},
   "outputs": [
    {
     "data": {
      "text/plain": [
       "'constitution'"
      ]
     },
     "execution_count": 44,
     "metadata": {},
     "output_type": "execute_result"
    }
   ],
   "source": [
    "a + b + c"
   ]
  },
  {
   "cell_type": "code",
   "execution_count": 57,
   "id": "cd54ba5a",
   "metadata": {},
   "outputs": [],
   "source": [
    "a = 'My '"
   ]
  },
  {
   "cell_type": "code",
   "execution_count": 60,
   "id": "08e414d9",
   "metadata": {},
   "outputs": [],
   "source": [
    "c = 'mother '"
   ]
  },
  {
   "cell_type": "code",
   "execution_count": 61,
   "id": "e2779ace",
   "metadata": {},
   "outputs": [],
   "source": [
    "d = 'just '"
   ]
  },
  {
   "cell_type": "code",
   "execution_count": 62,
   "id": "923945bc",
   "metadata": {},
   "outputs": [],
   "source": [
    "e = 'served '"
   ]
  },
  {
   "cell_type": "code",
   "execution_count": 63,
   "id": "256ed61f",
   "metadata": {},
   "outputs": [],
   "source": [
    "f = 'us '"
   ]
  },
  {
   "cell_type": "code",
   "execution_count": 64,
   "id": "6b8b965e",
   "metadata": {},
   "outputs": [],
   "source": [
    "g = '9 '"
   ]
  },
  {
   "cell_type": "code",
   "execution_count": 55,
   "id": "1eec3cb3",
   "metadata": {},
   "outputs": [],
   "source": [
    "h = 'pizzas.'"
   ]
  },
  {
   "cell_type": "code",
   "execution_count": 69,
   "id": "af530ca9",
   "metadata": {},
   "outputs": [
    {
     "data": {
      "text/plain": [
       "'My mother just served us 9 pizzas.'"
      ]
     },
     "execution_count": 69,
     "metadata": {},
     "output_type": "execute_result"
    }
   ],
   "source": [
    "a + c + d + e + f + g + h"
   ]
  },
  {
   "cell_type": "code",
   "execution_count": 70,
   "id": "a2f49944",
   "metadata": {},
   "outputs": [
    {
     "data": {
      "text/plain": [
       "'pizzas.pizzas.pizzas.pizzas.pizzas.pizzas.pizzas.pizzas.pizzas.pizzas.pizzas.pizzas.pizzas.pizzas.pizzas.pizzas.pizzas.pizzas.pizzas.pizzas.pizzas.pizzas.pizzas.pizzas.pizzas.pizzas.pizzas.pizzas.pizzas.pizzas.pizzas.pizzas.pizzas.pizzas.pizzas.pizzas.pizzas.pizzas.pizzas.pizzas.pizzas.pizzas.pizzas.pizzas.pizzas.pizzas.pizzas.pizzas.pizzas.pizzas.pizzas.pizzas.pizzas.pizzas.pizzas.pizzas.pizzas.pizzas.pizzas.pizzas.pizzas.pizzas.pizzas.pizzas.pizzas.pizzas.pizzas.pizzas.pizzas.pizzas.pizzas.pizzas.pizzas.pizzas.pizzas.pizzas.pizzas.pizzas.pizzas.pizzas.pizzas.pizzas.pizzas.pizzas.pizzas.pizzas.pizzas.pizzas.pizzas.pizzas.pizzas.pizzas.pizzas.pizzas.pizzas.pizzas.pizzas.pizzas.pizzas.pizzas.'"
      ]
     },
     "execution_count": 70,
     "metadata": {},
     "output_type": "execute_result"
    }
   ],
   "source": [
    "h * 100"
   ]
  }
 ],
 "metadata": {
  "kernelspec": {
   "display_name": "Python 3 (ipykernel)",
   "language": "python",
   "name": "python3"
  },
  "language_info": {
   "codemirror_mode": {
    "name": "ipython",
    "version": 3
   },
   "file_extension": ".py",
   "mimetype": "text/x-python",
   "name": "python",
   "nbconvert_exporter": "python",
   "pygments_lexer": "ipython3",
   "version": "3.11.5"
  }
 },
 "nbformat": 4,
 "nbformat_minor": 5
}
