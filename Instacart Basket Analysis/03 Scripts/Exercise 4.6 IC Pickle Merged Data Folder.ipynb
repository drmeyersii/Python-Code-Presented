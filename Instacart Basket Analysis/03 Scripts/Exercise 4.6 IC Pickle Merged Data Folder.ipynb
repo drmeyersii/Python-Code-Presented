{
 "cells": [
  {
   "cell_type": "markdown",
   "id": "aac109d6",
   "metadata": {},
   "source": [
    "# 4.6 Pickle merged data folder"
   ]
  },
  {
   "cell_type": "markdown",
   "id": "f88c708f",
   "metadata": {},
   "source": [
    "### This script contains the following points:\n",
    "\n",
    "#### 1. Import the new pickle dataframe\n",
    "#### 2. Merge new dataframe with products dataframe\n",
    "#### 3. Export the new full dataframe"
   ]
  },
  {
   "cell_type": "code",
   "execution_count": 1,
   "id": "4d90485a",
   "metadata": {},
   "outputs": [],
   "source": [
    "# Import libraries\n",
    "import pandas as pd\n",
    "import numpy as np\n",
    "import os"
   ]
  },
  {
   "cell_type": "code",
   "execution_count": 2,
   "id": "eba19874",
   "metadata": {},
   "outputs": [],
   "source": [
    "# Creating the path for imports\n",
    "path = r'/Users/nekow/Documents/Instacart Basket Analysis'"
   ]
  },
  {
   "cell_type": "markdown",
   "id": "2e5b45dd",
   "metadata": {},
   "source": [
    "## 1. Import the new pickle dataframe"
   ]
  },
  {
   "cell_type": "markdown",
   "id": "9b7139f9",
   "metadata": {},
   "source": [
    "### Step 3 of Exercise 4.6"
   ]
  },
  {
   "cell_type": "code",
   "execution_count": 8,
   "id": "95044313",
   "metadata": {
    "scrolled": true
   },
   "outputs": [],
   "source": [
    "# Importing the pickle file\n",
    "df_ord_prod_comb = pd.read_pickle(os.path.join(path, '02 Data', 'Prepared Data', 'orders_products_merged.pkl'))"
   ]
  },
  {
   "cell_type": "markdown",
   "id": "efcf001a",
   "metadata": {},
   "source": [
    "### Step 4 of Exercise 4.6"
   ]
  },
  {
   "cell_type": "code",
   "execution_count": 9,
   "id": "589563b8",
   "metadata": {},
   "outputs": [
    {
     "data": {
      "text/plain": [
       "(32404859, 16)"
      ]
     },
     "execution_count": 9,
     "metadata": {},
     "output_type": "execute_result"
    }
   ],
   "source": [
    "# Checking the shape\n",
    "df_ord_prod_comb.shape"
   ]
  },
  {
   "cell_type": "code",
   "execution_count": 10,
   "id": "1513b9bf",
   "metadata": {},
   "outputs": [
    {
     "data": {
      "text/html": [
       "<div>\n",
       "<style scoped>\n",
       "    .dataframe tbody tr th:only-of-type {\n",
       "        vertical-align: middle;\n",
       "    }\n",
       "\n",
       "    .dataframe tbody tr th {\n",
       "        vertical-align: top;\n",
       "    }\n",
       "\n",
       "    .dataframe thead th {\n",
       "        text-align: right;\n",
       "    }\n",
       "</style>\n",
       "<table border=\"1\" class=\"dataframe\">\n",
       "  <thead>\n",
       "    <tr style=\"text-align: right;\">\n",
       "      <th></th>\n",
       "      <th>Unnamed: 0</th>\n",
       "      <th>product_id</th>\n",
       "      <th>product_name</th>\n",
       "      <th>aisle_id</th>\n",
       "      <th>department_id</th>\n",
       "      <th>prices</th>\n",
       "      <th>order_id</th>\n",
       "      <th>user_id</th>\n",
       "      <th>eval_set</th>\n",
       "      <th>order_number</th>\n",
       "      <th>order_dow</th>\n",
       "      <th>order_hour_of_day</th>\n",
       "      <th>days_since_prior_order</th>\n",
       "      <th>add_to_cart_order</th>\n",
       "      <th>reordered</th>\n",
       "      <th>_merge</th>\n",
       "    </tr>\n",
       "  </thead>\n",
       "  <tbody>\n",
       "    <tr>\n",
       "      <th>0</th>\n",
       "      <td>0</td>\n",
       "      <td>1</td>\n",
       "      <td>Chocolate Sandwich Cookies</td>\n",
       "      <td>61</td>\n",
       "      <td>19</td>\n",
       "      <td>5.8</td>\n",
       "      <td>3139998</td>\n",
       "      <td>138</td>\n",
       "      <td>prior</td>\n",
       "      <td>28</td>\n",
       "      <td>6</td>\n",
       "      <td>11</td>\n",
       "      <td>3.0</td>\n",
       "      <td>5</td>\n",
       "      <td>0</td>\n",
       "      <td>both</td>\n",
       "    </tr>\n",
       "    <tr>\n",
       "      <th>1</th>\n",
       "      <td>0</td>\n",
       "      <td>1</td>\n",
       "      <td>Chocolate Sandwich Cookies</td>\n",
       "      <td>61</td>\n",
       "      <td>19</td>\n",
       "      <td>5.8</td>\n",
       "      <td>1977647</td>\n",
       "      <td>138</td>\n",
       "      <td>prior</td>\n",
       "      <td>30</td>\n",
       "      <td>6</td>\n",
       "      <td>17</td>\n",
       "      <td>20.0</td>\n",
       "      <td>1</td>\n",
       "      <td>1</td>\n",
       "      <td>both</td>\n",
       "    </tr>\n",
       "    <tr>\n",
       "      <th>2</th>\n",
       "      <td>0</td>\n",
       "      <td>1</td>\n",
       "      <td>Chocolate Sandwich Cookies</td>\n",
       "      <td>61</td>\n",
       "      <td>19</td>\n",
       "      <td>5.8</td>\n",
       "      <td>389851</td>\n",
       "      <td>709</td>\n",
       "      <td>prior</td>\n",
       "      <td>2</td>\n",
       "      <td>0</td>\n",
       "      <td>21</td>\n",
       "      <td>6.0</td>\n",
       "      <td>20</td>\n",
       "      <td>0</td>\n",
       "      <td>both</td>\n",
       "    </tr>\n",
       "    <tr>\n",
       "      <th>3</th>\n",
       "      <td>0</td>\n",
       "      <td>1</td>\n",
       "      <td>Chocolate Sandwich Cookies</td>\n",
       "      <td>61</td>\n",
       "      <td>19</td>\n",
       "      <td>5.8</td>\n",
       "      <td>652770</td>\n",
       "      <td>764</td>\n",
       "      <td>prior</td>\n",
       "      <td>1</td>\n",
       "      <td>3</td>\n",
       "      <td>13</td>\n",
       "      <td>NaN</td>\n",
       "      <td>10</td>\n",
       "      <td>0</td>\n",
       "      <td>both</td>\n",
       "    </tr>\n",
       "    <tr>\n",
       "      <th>4</th>\n",
       "      <td>0</td>\n",
       "      <td>1</td>\n",
       "      <td>Chocolate Sandwich Cookies</td>\n",
       "      <td>61</td>\n",
       "      <td>19</td>\n",
       "      <td>5.8</td>\n",
       "      <td>1813452</td>\n",
       "      <td>764</td>\n",
       "      <td>prior</td>\n",
       "      <td>3</td>\n",
       "      <td>4</td>\n",
       "      <td>17</td>\n",
       "      <td>9.0</td>\n",
       "      <td>11</td>\n",
       "      <td>1</td>\n",
       "      <td>both</td>\n",
       "    </tr>\n",
       "  </tbody>\n",
       "</table>\n",
       "</div>"
      ],
      "text/plain": [
       "   Unnamed: 0  product_id                product_name  aisle_id  \\\n",
       "0           0           1  Chocolate Sandwich Cookies        61   \n",
       "1           0           1  Chocolate Sandwich Cookies        61   \n",
       "2           0           1  Chocolate Sandwich Cookies        61   \n",
       "3           0           1  Chocolate Sandwich Cookies        61   \n",
       "4           0           1  Chocolate Sandwich Cookies        61   \n",
       "\n",
       "   department_id  prices  order_id  user_id eval_set  order_number  order_dow  \\\n",
       "0             19     5.8   3139998      138    prior            28          6   \n",
       "1             19     5.8   1977647      138    prior            30          6   \n",
       "2             19     5.8    389851      709    prior             2          0   \n",
       "3             19     5.8    652770      764    prior             1          3   \n",
       "4             19     5.8   1813452      764    prior             3          4   \n",
       "\n",
       "   order_hour_of_day  days_since_prior_order  add_to_cart_order  reordered  \\\n",
       "0                 11                     3.0                  5          0   \n",
       "1                 17                    20.0                  1          1   \n",
       "2                 21                     6.0                 20          0   \n",
       "3                 13                     NaN                 10          0   \n",
       "4                 17                     9.0                 11          1   \n",
       "\n",
       "  _merge  \n",
       "0   both  \n",
       "1   both  \n",
       "2   both  \n",
       "3   both  \n",
       "4   both  "
      ]
     },
     "execution_count": 10,
     "metadata": {},
     "output_type": "execute_result"
    }
   ],
   "source": [
    "df_ord_prod_comb.head()"
   ]
  },
  {
   "cell_type": "code",
   "execution_count": 6,
   "id": "df03d890",
   "metadata": {},
   "outputs": [],
   "source": [
    "# Import products wrangled, cleaned, and deduped dataset\n",
    "df_prod = pd.read_csv(os.path.join(path, '02 Data', 'Prepared Data', 'products_checked.csv'), index_col = False)"
   ]
  },
  {
   "cell_type": "markdown",
   "id": "78e5da9c",
   "metadata": {},
   "source": [
    "## 2. Merge new dataframe with products dataframe"
   ]
  },
  {
   "cell_type": "markdown",
   "id": "f9d81dfc",
   "metadata": {},
   "source": [
    "### Step 5 of Exercise 4.6"
   ]
  },
  {
   "cell_type": "code",
   "execution_count": 7,
   "id": "d91fc517",
   "metadata": {},
   "outputs": [],
   "source": [
    "# Merging orders and products\n",
    "df_merged_products = df_prod.merge(df_ord_prod_comb, on = ['product_id'], indicator = True)"
   ]
  },
  {
   "cell_type": "code",
   "execution_count": 8,
   "id": "571dae7c",
   "metadata": {
    "scrolled": true
   },
   "outputs": [
    {
     "data": {
      "text/html": [
       "<div>\n",
       "<style scoped>\n",
       "    .dataframe tbody tr th:only-of-type {\n",
       "        vertical-align: middle;\n",
       "    }\n",
       "\n",
       "    .dataframe tbody tr th {\n",
       "        vertical-align: top;\n",
       "    }\n",
       "\n",
       "    .dataframe thead th {\n",
       "        text-align: right;\n",
       "    }\n",
       "</style>\n",
       "<table border=\"1\" class=\"dataframe\">\n",
       "  <thead>\n",
       "    <tr style=\"text-align: right;\">\n",
       "      <th></th>\n",
       "      <th>Unnamed: 0</th>\n",
       "      <th>product_id</th>\n",
       "      <th>product_name</th>\n",
       "      <th>aisle_id</th>\n",
       "      <th>department_id</th>\n",
       "      <th>prices</th>\n",
       "      <th>order_id</th>\n",
       "      <th>user_id</th>\n",
       "      <th>eval_set</th>\n",
       "      <th>order_number</th>\n",
       "      <th>order_dow</th>\n",
       "      <th>order_hour_of_day</th>\n",
       "      <th>days_since_prior_order</th>\n",
       "      <th>add_to_cart_order</th>\n",
       "      <th>reordered</th>\n",
       "      <th>_merge</th>\n",
       "    </tr>\n",
       "  </thead>\n",
       "  <tbody>\n",
       "    <tr>\n",
       "      <th>0</th>\n",
       "      <td>0</td>\n",
       "      <td>1</td>\n",
       "      <td>Chocolate Sandwich Cookies</td>\n",
       "      <td>61</td>\n",
       "      <td>19</td>\n",
       "      <td>5.8</td>\n",
       "      <td>3139998</td>\n",
       "      <td>138</td>\n",
       "      <td>prior</td>\n",
       "      <td>28</td>\n",
       "      <td>6</td>\n",
       "      <td>11</td>\n",
       "      <td>3.0</td>\n",
       "      <td>5</td>\n",
       "      <td>0</td>\n",
       "      <td>both</td>\n",
       "    </tr>\n",
       "    <tr>\n",
       "      <th>1</th>\n",
       "      <td>0</td>\n",
       "      <td>1</td>\n",
       "      <td>Chocolate Sandwich Cookies</td>\n",
       "      <td>61</td>\n",
       "      <td>19</td>\n",
       "      <td>5.8</td>\n",
       "      <td>1977647</td>\n",
       "      <td>138</td>\n",
       "      <td>prior</td>\n",
       "      <td>30</td>\n",
       "      <td>6</td>\n",
       "      <td>17</td>\n",
       "      <td>20.0</td>\n",
       "      <td>1</td>\n",
       "      <td>1</td>\n",
       "      <td>both</td>\n",
       "    </tr>\n",
       "    <tr>\n",
       "      <th>2</th>\n",
       "      <td>0</td>\n",
       "      <td>1</td>\n",
       "      <td>Chocolate Sandwich Cookies</td>\n",
       "      <td>61</td>\n",
       "      <td>19</td>\n",
       "      <td>5.8</td>\n",
       "      <td>389851</td>\n",
       "      <td>709</td>\n",
       "      <td>prior</td>\n",
       "      <td>2</td>\n",
       "      <td>0</td>\n",
       "      <td>21</td>\n",
       "      <td>6.0</td>\n",
       "      <td>20</td>\n",
       "      <td>0</td>\n",
       "      <td>both</td>\n",
       "    </tr>\n",
       "    <tr>\n",
       "      <th>3</th>\n",
       "      <td>0</td>\n",
       "      <td>1</td>\n",
       "      <td>Chocolate Sandwich Cookies</td>\n",
       "      <td>61</td>\n",
       "      <td>19</td>\n",
       "      <td>5.8</td>\n",
       "      <td>652770</td>\n",
       "      <td>764</td>\n",
       "      <td>prior</td>\n",
       "      <td>1</td>\n",
       "      <td>3</td>\n",
       "      <td>13</td>\n",
       "      <td>NaN</td>\n",
       "      <td>10</td>\n",
       "      <td>0</td>\n",
       "      <td>both</td>\n",
       "    </tr>\n",
       "    <tr>\n",
       "      <th>4</th>\n",
       "      <td>0</td>\n",
       "      <td>1</td>\n",
       "      <td>Chocolate Sandwich Cookies</td>\n",
       "      <td>61</td>\n",
       "      <td>19</td>\n",
       "      <td>5.8</td>\n",
       "      <td>1813452</td>\n",
       "      <td>764</td>\n",
       "      <td>prior</td>\n",
       "      <td>3</td>\n",
       "      <td>4</td>\n",
       "      <td>17</td>\n",
       "      <td>9.0</td>\n",
       "      <td>11</td>\n",
       "      <td>1</td>\n",
       "      <td>both</td>\n",
       "    </tr>\n",
       "  </tbody>\n",
       "</table>\n",
       "</div>"
      ],
      "text/plain": [
       "   Unnamed: 0  product_id                product_name  aisle_id  \\\n",
       "0           0           1  Chocolate Sandwich Cookies        61   \n",
       "1           0           1  Chocolate Sandwich Cookies        61   \n",
       "2           0           1  Chocolate Sandwich Cookies        61   \n",
       "3           0           1  Chocolate Sandwich Cookies        61   \n",
       "4           0           1  Chocolate Sandwich Cookies        61   \n",
       "\n",
       "   department_id  prices  order_id  user_id eval_set  order_number  order_dow  \\\n",
       "0             19     5.8   3139998      138    prior            28          6   \n",
       "1             19     5.8   1977647      138    prior            30          6   \n",
       "2             19     5.8    389851      709    prior             2          0   \n",
       "3             19     5.8    652770      764    prior             1          3   \n",
       "4             19     5.8   1813452      764    prior             3          4   \n",
       "\n",
       "   order_hour_of_day  days_since_prior_order  add_to_cart_order  reordered  \\\n",
       "0                 11                     3.0                  5          0   \n",
       "1                 17                    20.0                  1          1   \n",
       "2                 21                     6.0                 20          0   \n",
       "3                 13                     NaN                 10          0   \n",
       "4                 17                     9.0                 11          1   \n",
       "\n",
       "  _merge  \n",
       "0   both  \n",
       "1   both  \n",
       "2   both  \n",
       "3   both  \n",
       "4   both  "
      ]
     },
     "execution_count": 8,
     "metadata": {},
     "output_type": "execute_result"
    }
   ],
   "source": [
    "df_merged_products.head()"
   ]
  },
  {
   "cell_type": "code",
   "execution_count": 9,
   "id": "d027ec96",
   "metadata": {},
   "outputs": [
    {
     "data": {
      "text/html": [
       "<div>\n",
       "<style scoped>\n",
       "    .dataframe tbody tr th:only-of-type {\n",
       "        vertical-align: middle;\n",
       "    }\n",
       "\n",
       "    .dataframe tbody tr th {\n",
       "        vertical-align: top;\n",
       "    }\n",
       "\n",
       "    .dataframe thead th {\n",
       "        text-align: right;\n",
       "    }\n",
       "</style>\n",
       "<table border=\"1\" class=\"dataframe\">\n",
       "  <thead>\n",
       "    <tr style=\"text-align: right;\">\n",
       "      <th></th>\n",
       "      <th>Unnamed: 0</th>\n",
       "      <th>product_id</th>\n",
       "      <th>product_name</th>\n",
       "      <th>aisle_id</th>\n",
       "      <th>department_id</th>\n",
       "      <th>prices</th>\n",
       "      <th>order_id</th>\n",
       "      <th>user_id</th>\n",
       "      <th>eval_set</th>\n",
       "      <th>order_number</th>\n",
       "      <th>order_dow</th>\n",
       "      <th>order_hour_of_day</th>\n",
       "      <th>days_since_prior_order</th>\n",
       "      <th>add_to_cart_order</th>\n",
       "      <th>reordered</th>\n",
       "      <th>_merge</th>\n",
       "    </tr>\n",
       "  </thead>\n",
       "  <tbody>\n",
       "    <tr>\n",
       "      <th>32404854</th>\n",
       "      <td>49692</td>\n",
       "      <td>49688</td>\n",
       "      <td>Fresh Foaming Cleanser</td>\n",
       "      <td>73</td>\n",
       "      <td>11</td>\n",
       "      <td>13.5</td>\n",
       "      <td>1788356</td>\n",
       "      <td>200215</td>\n",
       "      <td>prior</td>\n",
       "      <td>2</td>\n",
       "      <td>0</td>\n",
       "      <td>9</td>\n",
       "      <td>5.0</td>\n",
       "      <td>27</td>\n",
       "      <td>0</td>\n",
       "      <td>both</td>\n",
       "    </tr>\n",
       "    <tr>\n",
       "      <th>32404855</th>\n",
       "      <td>49692</td>\n",
       "      <td>49688</td>\n",
       "      <td>Fresh Foaming Cleanser</td>\n",
       "      <td>73</td>\n",
       "      <td>11</td>\n",
       "      <td>13.5</td>\n",
       "      <td>3401313</td>\n",
       "      <td>200377</td>\n",
       "      <td>prior</td>\n",
       "      <td>1</td>\n",
       "      <td>4</td>\n",
       "      <td>11</td>\n",
       "      <td>NaN</td>\n",
       "      <td>5</td>\n",
       "      <td>0</td>\n",
       "      <td>both</td>\n",
       "    </tr>\n",
       "    <tr>\n",
       "      <th>32404856</th>\n",
       "      <td>49692</td>\n",
       "      <td>49688</td>\n",
       "      <td>Fresh Foaming Cleanser</td>\n",
       "      <td>73</td>\n",
       "      <td>11</td>\n",
       "      <td>13.5</td>\n",
       "      <td>809510</td>\n",
       "      <td>200873</td>\n",
       "      <td>prior</td>\n",
       "      <td>5</td>\n",
       "      <td>3</td>\n",
       "      <td>8</td>\n",
       "      <td>15.0</td>\n",
       "      <td>12</td>\n",
       "      <td>0</td>\n",
       "      <td>both</td>\n",
       "    </tr>\n",
       "    <tr>\n",
       "      <th>32404857</th>\n",
       "      <td>49692</td>\n",
       "      <td>49688</td>\n",
       "      <td>Fresh Foaming Cleanser</td>\n",
       "      <td>73</td>\n",
       "      <td>11</td>\n",
       "      <td>13.5</td>\n",
       "      <td>2359893</td>\n",
       "      <td>200873</td>\n",
       "      <td>prior</td>\n",
       "      <td>9</td>\n",
       "      <td>3</td>\n",
       "      <td>15</td>\n",
       "      <td>5.0</td>\n",
       "      <td>11</td>\n",
       "      <td>1</td>\n",
       "      <td>both</td>\n",
       "    </tr>\n",
       "    <tr>\n",
       "      <th>32404858</th>\n",
       "      <td>49692</td>\n",
       "      <td>49688</td>\n",
       "      <td>Fresh Foaming Cleanser</td>\n",
       "      <td>73</td>\n",
       "      <td>11</td>\n",
       "      <td>13.5</td>\n",
       "      <td>2385091</td>\n",
       "      <td>205926</td>\n",
       "      <td>prior</td>\n",
       "      <td>11</td>\n",
       "      <td>1</td>\n",
       "      <td>15</td>\n",
       "      <td>6.0</td>\n",
       "      <td>35</td>\n",
       "      <td>0</td>\n",
       "      <td>both</td>\n",
       "    </tr>\n",
       "  </tbody>\n",
       "</table>\n",
       "</div>"
      ],
      "text/plain": [
       "          Unnamed: 0  product_id            product_name  aisle_id  \\\n",
       "32404854       49692       49688  Fresh Foaming Cleanser        73   \n",
       "32404855       49692       49688  Fresh Foaming Cleanser        73   \n",
       "32404856       49692       49688  Fresh Foaming Cleanser        73   \n",
       "32404857       49692       49688  Fresh Foaming Cleanser        73   \n",
       "32404858       49692       49688  Fresh Foaming Cleanser        73   \n",
       "\n",
       "          department_id  prices  order_id  user_id eval_set  order_number  \\\n",
       "32404854             11    13.5   1788356   200215    prior             2   \n",
       "32404855             11    13.5   3401313   200377    prior             1   \n",
       "32404856             11    13.5    809510   200873    prior             5   \n",
       "32404857             11    13.5   2359893   200873    prior             9   \n",
       "32404858             11    13.5   2385091   205926    prior            11   \n",
       "\n",
       "          order_dow  order_hour_of_day  days_since_prior_order  \\\n",
       "32404854          0                  9                     5.0   \n",
       "32404855          4                 11                     NaN   \n",
       "32404856          3                  8                    15.0   \n",
       "32404857          3                 15                     5.0   \n",
       "32404858          1                 15                     6.0   \n",
       "\n",
       "          add_to_cart_order  reordered _merge  \n",
       "32404854                 27          0   both  \n",
       "32404855                  5          0   both  \n",
       "32404856                 12          0   both  \n",
       "32404857                 11          1   both  \n",
       "32404858                 35          0   both  "
      ]
     },
     "execution_count": 9,
     "metadata": {},
     "output_type": "execute_result"
    }
   ],
   "source": [
    "df_merged_products.tail()"
   ]
  },
  {
   "cell_type": "code",
   "execution_count": 10,
   "id": "7c196af6",
   "metadata": {},
   "outputs": [
    {
     "data": {
      "text/plain": [
       "(32404859, 16)"
      ]
     },
     "execution_count": 10,
     "metadata": {},
     "output_type": "execute_result"
    }
   ],
   "source": [
    "df_merged_products.shape"
   ]
  },
  {
   "cell_type": "markdown",
   "id": "10438bc5",
   "metadata": {},
   "source": [
    "### Step 6 of Exercise 4.6"
   ]
  },
  {
   "cell_type": "code",
   "execution_count": 11,
   "id": "95fec7b0",
   "metadata": {
    "scrolled": true
   },
   "outputs": [
    {
     "data": {
      "text/plain": [
       "_merge\n",
       "both          32404859\n",
       "left_only            0\n",
       "right_only           0\n",
       "Name: count, dtype: int64"
      ]
     },
     "execution_count": 11,
     "metadata": {},
     "output_type": "execute_result"
    }
   ],
   "source": [
    "# Confirming the merge with the merge flag\n",
    "df_merged_products['_merge'].value_counts()"
   ]
  },
  {
   "cell_type": "markdown",
   "id": "fabf8114",
   "metadata": {},
   "source": [
    "## 3. Export the new dataframe"
   ]
  },
  {
   "cell_type": "markdown",
   "id": "5e57c1d0",
   "metadata": {},
   "source": [
    "### Step 7 of Exercise 4.6"
   ]
  },
  {
   "cell_type": "code",
   "execution_count": 12,
   "id": "38fd295c",
   "metadata": {},
   "outputs": [],
   "source": [
    "# Exporting the merged file as a pickle file\n",
    "df_merged_products.to_pickle(os.path.join(path, '02 Data', 'Prepared Data', 'orders_products_merged.pkl'))"
   ]
  }
 ],
 "metadata": {
  "kernelspec": {
   "display_name": "Python 3 (ipykernel)",
   "language": "python",
   "name": "python3"
  },
  "language_info": {
   "codemirror_mode": {
    "name": "ipython",
    "version": 3
   },
   "file_extension": ".py",
   "mimetype": "text/x-python",
   "name": "python",
   "nbconvert_exporter": "python",
   "pygments_lexer": "ipython3",
   "version": "3.11.5"
  }
 },
 "nbformat": 4,
 "nbformat_minor": 5
}
